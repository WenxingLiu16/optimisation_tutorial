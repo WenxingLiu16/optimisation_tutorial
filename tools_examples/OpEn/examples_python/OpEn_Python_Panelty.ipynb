{
 "cells": [
  {
   "cell_type": "markdown",
   "metadata": {},
   "source": [
    "# OpEn Python Interface Test (Panelty Method)\n",
    "\n",
    "This example solves a simple optimisation problem by using [OpEn with Python Interface](https://alphaville.github.io/optimization-engine/docs/python-interface). \n",
    "\n",
    "This example will use a panelty method to tranform the constrained problem into an unconstrained one. "
   ]
  },
  {
   "cell_type": "markdown",
   "metadata": {},
   "source": [
    "## Problem Statement\n",
    "\n",
    "### Original Problem\n",
    "\n",
    "Minimise $$f(x) = (x - p_1)^2$$ \n",
    "\n",
    "subject to $$x \\le p_2$$\n",
    "\n",
    "where $p \\in \\mathbb{R}$.\n",
    "\n",
    "### Unconstrained Version\n",
    "\n",
    "Minimise  $$T(x) = (x - p_1)^2 + r \\cdot \\{\\max(0, x-p_2) \\}$$ "
   ]
  },
  {
   "cell_type": "markdown",
   "metadata": {},
   "source": [
    "## Implementation using OpEn\n",
    "\n",
    "A basic description about how to do can be found [here](https://alphaville.github.io/optimization-engine/docs/python-interface). \n"
   ]
  },
  {
   "cell_type": "markdown",
   "metadata": {},
   "source": [
    "### Code Generation\n",
    "\n",
    "**Step 1)** Make a new python file, and copy \\& paste the following:"
   ]
  },
  {
   "cell_type": "markdown",
   "metadata": {},
   "source": [
    "```\n",
    "import casadi.casadi as cs\n",
    "import opengen as og\n",
    "\n",
    "x = cs.SX.sym(\"x\", 1)                 # decision variable (num_x = 1)\n",
    "p = cs.SX.sym(\"p\", 2)                 # parameter (num_p = 2)\n",
    "f = (x[0]-p[0])**2                    # cost function\n",
    "\n",
    "\n",
    "\n",
    "f2 = cs.vertcat( cs.fmax(0.0, x[0]-p[1]) )\n",
    "\n",
    "problem = og.builder.Problem(x, p, f)  \\\n",
    "        .with_penalty_constraints(f2)  \\\n",
    "\n",
    "\n",
    "meta = og.config.OptimizerMeta()                \\\n",
    "    .with_version(\"0.0.0\")                      \\\n",
    "    .with_licence(\"CC4.0-By\")                   \\\n",
    "    .with_optimizer_name(\"paneltymethod_example\")        \n",
    "\n",
    "build_config = og.config.BuildConfiguration()  \\\n",
    "    .with_build_directory(\"python_build\")      \\\n",
    "    .with_build_mode(\"debug\")                  \\\n",
    "    .with_tcp_interface_config()    \n",
    "\n",
    "solver_config = og.config.SolverConfiguration()   \\\n",
    "            .with_lfbgs_memory(15)                \\\n",
    "            .with_tolerance(1e-5)                 \\\n",
    "            .with_max_inner_iterations(155)\n",
    "\n",
    "builder = og.builder.OpEnOptimizerBuilder(problem,\n",
    "                                          metadata=meta,\n",
    "                                          build_configuration=build_config,\n",
    "                                          solver_configuration=solver_config)\n",
    "builder.build()    \n",
    "```"
   ]
  },
  {
   "cell_type": "markdown",
   "metadata": {},
   "source": [
    "Here, in use of OpEn, we do not need to specify $r$ for the unconstrained problem. \n",
    "\n"
   ]
  },
  {
   "cell_type": "markdown",
   "metadata": {},
   "source": [
    "**Step 2)** In a terminal, execute `$ python {the above file name.py}`. Then, the corresponding compiling process will be finished soon. \n",
    "\n"
   ]
  },
  {
   "cell_type": "markdown",
   "metadata": {},
   "source": [
    "### Calling the optimiser\n",
    "\n",
    "**Step 3)** Make another new python file having the following:"
   ]
  },
  {
   "cell_type": "markdown",
   "metadata": {},
   "source": [
    "```\n",
    "import opengen as og\n",
    "\n",
    "mng = og.tcp.OptimizerTcpManager('python_build/paneltymethod_example')\n",
    "mng.start()\n",
    "\n",
    "pong = mng.ping()                 # check if the server is alive\n",
    "print(pong)\n",
    "response = mng.call([10.0, 5])  # call the solver over TCP\n",
    "\n",
    "\n",
    "if response.is_ok():\n",
    "    # Solver returned a solution\n",
    "    solution_data = response.get()\n",
    "    u_star = solution_data.solution\n",
    "    exit_status = solution_data.exit_status\n",
    "    solver_time = solution_data.solve_time_ms\n",
    "    print(\"Solution: x = \", u_star)\n",
    "    print(\"Solver_time: = \", solver_time)\n",
    "else:\n",
    "    # Invocation failed - an error report is returned\n",
    "    solver_error = response.get()\n",
    "    error_code = solver_error.code\n",
    "    error_msg = solver_error.message\n",
    "\n",
    "\n",
    "mng.kill()\n",
    "```"
   ]
  },
  {
   "cell_type": "markdown",
   "metadata": {},
   "source": [
    "**Step 4)** In a terminal, execute `$ python {the above file name.py}`\n",
    "\n",
    "Then, the result will look like\n",
    "\n",
    "```\n",
    "{'Pong': 1}\n",
    "Solution: x =  [-9.999999999999]\n",
    "Solver_time: =  0.046267\n",
    "```"
   ]
  },
  {
   "cell_type": "markdown",
   "metadata": {},
   "source": [
    "### Result\n",
    "#### **From the above code**\n",
    "\n",
    "\n",
    "Depending on parameters, the results are\n",
    "\n",
    "| Case | $$p_1$$   |  $$p_2$$  | Optimum |\n",
    "|------|-----------|-----------|---------|\n",
    "|  (1) | $$10$$    |   $$5$$   | $$5$$   |\n",
    "|  (2) | $$-10$$   |   $$5$$   | $$-10$$ |\n",
    "\n"
   ]
  },
  {
   "cell_type": "markdown",
   "metadata": {},
   "source": [
    "#### **Check by Hands**\n",
    "Actually, the above optimisation problem can be easily solved by hands, and we know its optimum. It can be shown like this. "
   ]
  },
  {
   "cell_type": "code",
   "execution_count": 1,
   "metadata": {},
   "outputs": [],
   "source": [
    "import matplotlib.pyplot as plt\n",
    "import numpy as np"
   ]
  },
  {
   "cell_type": "markdown",
   "metadata": {},
   "source": [
    "##### **Case (1)**"
   ]
  },
  {
   "cell_type": "code",
   "execution_count": 2,
   "metadata": {},
   "outputs": [],
   "source": [
    "p_1 = 10\n",
    "p_2 = 5"
   ]
  },
  {
   "cell_type": "code",
   "execution_count": 3,
   "metadata": {},
   "outputs": [
    {
     "data": {
      "text/plain": [
       "<matplotlib.collections.PolyCollection at 0x7f2a0d343a90>"
      ]
     },
     "execution_count": 3,
     "metadata": {},
     "output_type": "execute_result"
    },
    {
     "data": {
      "image/png": "[encoded data removed]",
      "text/plain": [
       "<Figure size 432x288 with 1 Axes>"
      ]
     },
     "metadata": {
      "needs_background": "light"
     },
     "output_type": "display_data"
    }
   ],
   "source": [
    "x = np.array(np.arange(-100,100,0.01))  # Start = -50, Stop 50, step 0.01\n",
    "f = (x-p_1)**2\n",
    "\n",
    "plt.plot(x,f)\n",
    "plt.plot([p_2, p_2], [-1000,100**2])\n",
    "plt.fill_between(x, 10000,-1000, where=(x > p_2), color='C0', alpha = 0.3)"
   ]
  },
  {
   "cell_type": "markdown",
   "metadata": {},
   "source": [
    "##### **Case (2)**"
   ]
  },
  {
   "cell_type": "code",
   "execution_count": 4,
   "metadata": {},
   "outputs": [],
   "source": [
    "p_1 = -10\n",
    "p_2 = 5"
   ]
  },
  {
   "cell_type": "code",
   "execution_count": 5,
   "metadata": {},
   "outputs": [
    {
     "data": {
      "text/plain": [
       "<matplotlib.collections.PolyCollection at 0x7f2a0d2d3a58>"
      ]
     },
     "execution_count": 5,
     "metadata": {},
     "output_type": "execute_result"
    },
    {
     "data": {
      "image/png": "[encoded data removed]",
      "text/plain": [
       "<Figure size 432x288 with 1 Axes>"
      ]
     },
     "metadata": {
      "needs_background": "light"
     },
     "output_type": "display_data"
    }
   ],
   "source": [
    "x = np.array(np.arange(-100,100,0.01))  # Start = -50, Stop 50, step 0.01\n",
    "f = (x-p_1)**2\n",
    "\n",
    "plt.plot(x,f)\n",
    "plt.plot([p_2, p_2], [-1000,100**2])\n",
    "plt.fill_between(x, 10000,-1000, where=(x > p_2), color='C0', alpha = 0.3)"
   ]
  }
 ],
 "metadata": {
  "_draft": {
   "nbviewer_url": "https://gist.github.com/f3e70f1ffb9c52f1a17b2bde0ea3a9d1"
  },
  "gist": {
   "data": {
    "description": "home/inmo/Jupyter/OpEn_Python_Panelty.ipynb",
    "public": true
   },
   "id": "f3e70f1ffb9c52f1a17b2bde0ea3a9d1"
  },
  "kernelspec": {
   "display_name": "Python 3",
   "language": "python",
   "name": "python3"
  },
  "language_info": {
   "codemirror_mode": {
    "name": "ipython",
    "version": 3
   },
   "file_extension": ".py",
   "mimetype": "text/x-python",
   "name": "python",
   "nbconvert_exporter": "python",
   "pygments_lexer": "ipython3",
   "version": "3.5.2"
  }
 },
 "nbformat": 4,
 "nbformat_minor": 4
}